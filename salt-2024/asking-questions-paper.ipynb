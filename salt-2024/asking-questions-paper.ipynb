{
 "cells": [
  {
   "cell_type": "markdown",
   "id": "87247709-4dd3-4526-9b52-0b1e27dcdeeb",
   "metadata": {},
   "source": [
    "# Asking questions, 10/31/2024\n",
    "\n",
    "**Kyle Rawlins**, JHU Cognitive Science, `kgr@jhu.edu`\n",
    "\n",
    "This notebook goes with my [SALT 34](https://saltconf.github.io/salt34/) paper, *Asking (non-)canonical questions*.  This notebook steps through an implemented calculation of the utilities of the response moves to a simple positive polar question, using tools from the [lambda notebook](https://github.com/rawlins/lambda-notebook). At the time of writing, this notebook requires an extremely current trunk version of the lambda notebook in order to be runnable, and demonstrates some new and exciting lambda notebook features that were developed as part of this project, including models, set theory support code, and domain elements. This must be run with the lambda notebook kernel.\n",
    "\n",
    "This notebook is very much part of an in-progress larger project, so stay tuned for an updated version of it!\n",
    "\n",
    "* v1.0: initial release, 5/29/24 for the talk\n",
    "* v1.1: minor updates after some bugfixes in lambda notebook support code. 6/20/24.\n",
    "* v1.2: minor updates for the paper, 10/31/24."
   ]
  },
  {
   "cell_type": "markdown",
   "id": "5294226a-d4e4-4492-9d57-950bd3b9a177",
   "metadata": {},
   "source": [
    "## Setup"
   ]
  },
  {
   "cell_type": "markdown",
   "id": "d32e06f7-1331-4553-a5e8-bdc22882ddf5",
   "metadata": {},
   "source": [
    "Add possible worlds to the type system:"
   ]
  },
  {
   "cell_type": "code",
   "execution_count": 1,
   "id": "9a8f45a8-8a29-4a98-9925-4c2e9b7b1b55",
   "metadata": {},
   "outputs": [],
   "source": [
    "ts = lang.get_system().copy()\n",
    "type_s = types.BasicType(\"s\")\n",
    "ts.add_basic_type(type_s)\n",
    "lang.set_system(ts)"
   ]
  },
  {
   "cell_type": "markdown",
   "id": "e14c3034-5068-41bc-bfda-d8b95dd1ae88",
   "metadata": {},
   "source": [
    "Set up a minimal demo model with two entities and four possible worlds:"
   ]
  },
  {
   "cell_type": "code",
   "execution_count": 2,
   "id": "c7664812-b2b7-44a4-8b62-12396be1011c",
   "metadata": {},
   "outputs": [
    {
     "data": {
      "text/markdown": [
       "**Domain**: <br />$D_{e} = \\{\\textsf{c0}_{e}, \\textsf{c1}_{e}\\}$<br />$D_{s} = \\{\\textsf{w0}_{s}, \\textsf{w1}_{s}, \\textsf{w2}_{s}, \\textsf{w3}_{s}\\}$<br />**Valuations**:<br />$\\left[\\begin{array}{lll} A & \\rightarrow & \\textsf{c0}_{e} \\\\\n",
       "B & \\rightarrow & \\textsf{c1}_{e} \\\\\n",
       "Rain & \\rightarrow & \\textsf{Fun[\\{w0,w2\\}]}_{\\left\\langle{}s,t\\right\\rangle{}} \\\\\n",
       "Snow & \\rightarrow & \\textsf{Fun[\\{w0,w1\\}]}_{\\left\\langle{}s,t\\right\\rangle{}} \\\\ \\end{array}\\right]$"
      ],
      "text/plain": [
       "Model(assignment={'A': _c0,\n",
       "                  'B': _c1,\n",
       "                  'Rain': Fun[{_w0,_w2}],\n",
       "                  'Snow': Fun[{_w0,_w1}]},\n",
       "      domain={e: {_c0, _c1}, s: {_w0, _w1, _w2, _w3}},\n",
       "      strict_charfuns=True)"
      ]
     },
     "execution_count": 2,
     "metadata": {},
     "output_type": "execute_result"
    }
   ],
   "source": [
    "m1 = meta.Model({'A': '_c0', 'B': '_c1'}, domain={'_c0', '_c1'}).expand(te('Rain_<s,t>'), te('Snow_<s,t>'))\n",
    "m1"
   ]
  },
  {
   "cell_type": "code",
   "execution_count": 3,
   "id": "0183b068-622c-4613-adb9-a5225564fc35",
   "metadata": {},
   "outputs": [
    {
     "data": {
      "text/markdown": [
       "| $s$| $Rain$| $Snow$|\n",
       "| :---:| :---:| :---:|\n",
       "| $\\textsf{w0}_{s}$| 1| 1|\n",
       "| $\\textsf{w1}_{s}$| 0| 1|\n",
       "| $\\textsf{w2}_{s}$| 1| 0|\n",
       "| $\\textsf{w3}_{s}$| 0| 0|\n"
      ],
      "text/plain": [
       "| $s$| $Rain$| $Snow$|\n",
       "| :---:| :---:| :---:|\n",
       "| $\\textsf{w0}_{s}$| 1| 1|\n",
       "| $\\textsf{w1}_{s}$| 0| 1|\n",
       "| $\\textsf{w2}_{s}$| 1| 0|\n",
       "| $\\textsf{w3}_{s}$| 0| 0|"
      ]
     },
     "execution_count": 3,
     "metadata": {},
     "output_type": "execute_result"
    }
   ],
   "source": [
    "m1.summarize_predicates()"
   ]
  },
  {
   "cell_type": "markdown",
   "id": "eac82826-282b-40ec-8c3f-3e426a310f49",
   "metadata": {},
   "source": [
    "Lexicon for some toy examples. `Down` is the inquisitive semantics downward closure operator."
   ]
  },
  {
   "cell_type": "code",
   "execution_count": 4,
   "id": "76a934d5-b2f5-4ce4-82fc-33e048312ab6",
   "metadata": {},
   "outputs": [
    {
     "data": {
      "text/markdown": [
       "${Set}_{\\left\\langle{}\\left\\langle{}s,t\\right\\rangle{},\\left\\{s\\right\\}\\right\\rangle{}}\\:=\\:\\lambda{} p_{\\left\\langle{}s,t\\right\\rangle{}} \\: . \\: \\{{w}_{s} \\:|\\: {p}({w}_{s})\\}$<br />\n",
       "${Down}_{\\left\\langle{}\\left\\{\\left\\{s\\right\\}\\right\\},\\left\\{\\left\\{s\\right\\}\\right\\}\\right\\rangle{}}\\:=\\:\\lambda{} p_{\\left\\{\\left\\{s\\right\\}\\right\\}} \\: . \\: \\{{q}_{\\left\\{s\\right\\}} \\:|\\: \\neg{} ({q}_{\\left\\{s\\right\\}} = \\{\\}_{\\left\\{s\\right\\}}) \\wedge{} (\\exists{} r_{\\left\\{s\\right\\}} \\in {\\small {p}_{\\left\\{\\left\\{s\\right\\}\\right\\}}} \\: . \\: {q}_{\\left\\{s\\right\\}} \\subseteq{} {r})\\}$<br />\n",
       "${Neg}_{\\left\\langle{}\\left\\langle{}s,t\\right\\rangle{},\\left\\langle{}s,t\\right\\rangle{}\\right\\rangle{}}\\:=\\:\\lambda{} p_{\\left\\langle{}s,t\\right\\rangle{}} \\: . \\: \\lambda{} w_{s} \\: . \\: \\neg{} {p}({w})$<br />\n",
       "$[\\![\\text{\\textbf{Pol}}]\\!]^{}_{\\left\\langle{}\\left\\langle{}s,t\\right\\rangle{},\\left\\{\\left\\{s\\right\\}\\right\\}\\right\\rangle{}} \\:=\\: \\lambda{} p_{\\left\\langle{}s,t\\right\\rangle{}} \\: . \\: \\{{q}_{\\left\\{s\\right\\}} \\:|\\: \\neg{} ({q}_{\\left\\{s\\right\\}} = \\{\\}_{\\left\\{s\\right\\}}) \\wedge{} (\\exists{} r_{\\left\\{s\\right\\}} \\in {\\small \\{{q}_{\\left\\{s\\right\\}} \\:|\\: ({q}_{\\left\\{s\\right\\}} = \\{{w}_{s} \\:|\\: {p}_{\\left\\langle{}s,t\\right\\rangle{}}({w}_{s})\\}) \\vee{} ({q}_{\\left\\{s\\right\\}} = \\{{w}_{s} \\:|\\: \\neg{} {p}_{\\left\\langle{}s,t\\right\\rangle{}}({w}_{s})\\})\\}} \\: . \\: {q}_{\\left\\{s\\right\\}} \\subseteq{} {r})\\}$<br />\n",
       "$[\\![\\text{\\textbf{rain}}]\\!]^{}_{\\left\\langle{}s,t\\right\\rangle{}} \\:=\\: {Rain}_{\\left\\langle{}s,t\\right\\rangle{}}$<br />\n",
       "$[\\![\\text{\\textbf{snow}}]\\!]^{}_{\\left\\langle{}s,t\\right\\rangle{}} \\:=\\: {Snow}_{\\left\\langle{}s,t\\right\\rangle{}}$"
      ],
      "text/plain": [
       "Set_<<s,t>,{s}> = (λ p_<s,t>: (Set w_s: p_<s,t>(w_s)))\n",
       "Down_<{{s}},{{s}}> = (λ p_{{s}}: (Set q_{s}: (~(q_{s} <=> {}) & (Exists r_{s} << p_{{s}}: (q_{s} <= r_{s})))))\n",
       "Neg_<<s,t>,<s,t>> = (λ p_<s,t>: (λ w_s: ~p_<s,t>(w_s)))\n",
       "⟦Pol⟧ = (λ p_<s,t>: (Set q_{s}: (~(q_{s} <=> {}) & (Exists r_{s} << (Set q_{s}: ((q_{s} <=> (Set w_s: p_<s,t>(w_s))) | (q_{s} <=> (Set w_s: ~p_<s,t>(w_s))))): (q_{s} <= r_{s})))))\n",
       "⟦rain⟧ = Rain_<s,t>\n",
       "⟦snow⟧ = Snow_<s,t>"
      ]
     },
     "metadata": {},
     "output_type": "display_data"
    }
   ],
   "source": [
    "%%lamb\n",
    "Set = L p_<s,t> : Set w_s : p(w)\n",
    "Down = L p_{{s}} : Set q_{s} : ~(q <=> {}) & (Exists r_{s} << p : q <= r)\n",
    "\n",
    "Neg = L p_<s,t> : L w_s : ~p(w)\n",
    "||Pol|| = L p_<s,t> : Down(Set q_{s} : q <=> Set(p) | q <=> Set(Neg(p)))\n",
    "||rain|| = Rain_<s,t>\n",
    "||snow|| = Snow_<s,t>"
   ]
  },
  {
   "cell_type": "code",
   "execution_count": 5,
   "id": "9fa4533b-71b9-4767-bebd-bc5406b78dd0",
   "metadata": {},
   "outputs": [
    {
     "data": {
      "text/markdown": [
       "1 composition path.  Result:<br />\n",
       "&nbsp;&nbsp;&nbsp;&nbsp;[0]: $[\\![\\text{\\textbf{[Pol rain]}}]\\!]^{}_{\\left\\{\\left\\{s\\right\\}\\right\\}} \\:=\\: \\{{q}_{\\left\\{s\\right\\}} \\:|\\: \\neg{} (\\forall{} x_{s} \\: . \\: \\neg{} ({x} \\in{} {q}_{\\left\\{s\\right\\}})) \\wedge{} (\\exists{} r_{\\left\\{s\\right\\}} \\in {\\small \\{{q}_{\\left\\{s\\right\\}} \\:|\\: ({q}_{\\left\\{s\\right\\}} = \\{{w}_{s} \\:|\\: {Rain}_{\\left\\langle{}s,t\\right\\rangle{}}({w}_{s})\\}) \\vee{} ({q}_{\\left\\{s\\right\\}} = \\{{w}_{s} \\:|\\: \\neg{} {Rain}_{\\left\\langle{}s,t\\right\\rangle{}}({w}_{s})\\})\\}} \\: . \\: {q}_{\\left\\{s\\right\\}} = ({q}_{\\left\\{s\\right\\}} \\cap{} {r}))\\}$"
      ],
      "text/plain": [
       "1 composition path.  Result:\n",
       "    [0]: ⟦Pol⟧ * ⟦rain⟧ leads to: ⟦[Pol rain]⟧ = (Set q_{s}: (~(Forall x_s: ~(x_s << q_{s})) & (Exists r_{s} << (Set q_{s}: ((q_{s} <=> (Set w_s: Rain_<s,t>(w_s))) | (q_{s} <=> (Set w_s: ~Rain_<s,t>(w_s))))): (q_{s} <=> (q_{s} & r_{s}))))) [by FA]"
      ]
     },
     "metadata": {},
     "output_type": "display_data"
    }
   ],
   "source": [
    "Pol * rain"
   ]
  },
  {
   "cell_type": "code",
   "execution_count": 6,
   "id": "7716c375-c3c6-4800-ae5b-a0b3c092083e",
   "metadata": {},
   "outputs": [
    {
     "data": {
      "text/latex": [
       "$\\{\\textsf{\\{w0\\}}_{\\left\\{s\\right\\}}, \\textsf{\\{w1\\}}_{\\left\\{s\\right\\}}, \\textsf{\\{w2\\}}_{\\left\\{s\\right\\}}, \\textsf{\\{w3\\}}_{\\left\\{s\\right\\}}, \\textsf{\\{w0,w2\\}}_{\\left\\{s\\right\\}}, \\textsf{\\{w1,w3\\}}_{\\left\\{s\\right\\}}\\}$"
      ],
      "text/plain": [
       "{{_w0,_w2}, {_w2}, {_w1,_w3}, {_w1}, {_w3}, {_w0}}"
      ]
     },
     "metadata": {},
     "output_type": "display_data"
    }
   ],
   "source": [
    "with m1.under():\n",
    "    display(m1.evaluate((Pol * rain)[0].content))"
   ]
  },
  {
   "cell_type": "markdown",
   "id": "8d1ed636-bad2-47c1-b728-15345c14e475",
   "metadata": {},
   "source": [
    "Upward closure operator; reconstruct Hamblin sets from inquisitive semantics issue:"
   ]
  },
  {
   "cell_type": "code",
   "execution_count": 7,
   "id": "87af016a-1bf4-434f-bab4-1a025f2cebea",
   "metadata": {},
   "outputs": [
    {
     "data": {
      "text/markdown": [
       "${Up}_{\\left\\langle{}\\left\\{\\left\\{s\\right\\}\\right\\},\\left\\{\\left\\{s\\right\\}\\right\\}\\right\\rangle{}}\\:=\\:\\lambda{} p_{\\left\\{\\left\\{s\\right\\}\\right\\}} \\: . \\: \\{{y}_{\\left\\{s\\right\\}} \\:|\\: ({y}_{\\left\\{s\\right\\}} \\in{} {p}) \\wedge{} \\neg{} (\\exists{} z_{\\left\\{s\\right\\}} \\: . \\: ({y}_{\\left\\{s\\right\\}} \\subset{} {z}) \\wedge{} ({z} \\in{} {p}))\\}$"
      ],
      "text/plain": [
       "Up_<{{s}},{{s}}> = (λ p_{{s}}: (Set y_{s}: ((y_{s} << p_{{s}}) & ~(Exists z_{s}: ((y_{s} < z_{s}) & (z_{s} << p_{{s}}))))))"
      ]
     },
     "metadata": {},
     "output_type": "display_data"
    }
   ],
   "source": [
    "%%lamb\n",
    "Up = L p_{{s}} : Set y_{s} : (y << p) & ~(Exists z_{X} : z << p & (y < z))"
   ]
  },
  {
   "cell_type": "code",
   "execution_count": 8,
   "id": "52aa2921-b236-4fd1-a200-71fd04c02c24",
   "metadata": {},
   "outputs": [
    {
     "data": {
      "text/latex": [
       "$\\{\\textsf{\\{w0,w2\\}}_{\\left\\{s\\right\\}}, \\textsf{\\{w1,w3\\}}_{\\left\\{s\\right\\}}\\}$"
      ],
      "text/plain": [
       "{{_w0,_w2}, {_w1,_w3}}"
      ]
     },
     "execution_count": 8,
     "metadata": {},
     "output_type": "execute_result"
    }
   ],
   "source": [
    "with m1.under():\n",
    "    result2 = Up(m1.evaluate((Pol * rain)[0].content)).simplify_all(reduce=True, eliminate=True)\n",
    "result2"
   ]
  },
  {
   "cell_type": "markdown",
   "id": "c09e77a9-e44b-42f5-b17d-6cebc1630fd4",
   "metadata": {},
   "source": [
    "## Constraints on responding\n",
    "\n",
    "On to the key response example. Three constraints.\n",
    "\n",
    "If $A$ utters $\\phi$ relative to QUD $Q$:\n",
    "\n",
    "* **Consistency**: the output state should be consistent with each agent's belief state.\n",
    "* **Quality**: the informative content of $\\phi$ should be entailed by A's belief state.\n",
    "    - here I subdivide quality into the two Gricean submaxims. This is particularly helpful here because only Quality2 applies to acceptance moves.\n",
    "* **Resolvedness**: If possible, the result of updating with $\\phi$ should `move towards' resolving $Q$.\n",
    "    - this is the only questioning-specific constraint here."
   ]
  },
  {
   "cell_type": "code",
   "execution_count": 9,
   "id": "af04e093-19ac-4b0c-afb9-55ab8ad4c826",
   "metadata": {},
   "outputs": [
    {
     "data": {
      "text/markdown": [
       "${Consistency}_{\\left\\langle{}e,\\left\\langle{}\\left\\langle{}e,\\left\\{s\\right\\}\\right\\rangle{},\\left\\langle{}\\left\\{s\\right\\},t\\right\\rangle{}\\right\\rangle{}\\right\\rangle{}}\\:=\\:\\lambda{} x_{e} \\: . \\: \\lambda{} att_{\\left\\langle{}e,\\left\\{s\\right\\}\\right\\rangle{}} \\: . \\: \\lambda{} cs_{\\left\\{s\\right\\}} \\: . \\: \\neg{} (\\forall{} x1_{s} \\: . \\: \\neg{} ({x1} \\in{} ({cs} \\cap{} {att}({x}))))$"
      ],
      "text/plain": [
       "Consistency_<e,<<e,{s}>,<{s},t>>> = (λ x_e: (λ att_<e,{s}>: (λ cs_{s}: ~(Forall x1_s: ~(x1_s << (cs_{s} & att_<e,{s}>(x_e)))))))"
      ]
     },
     "metadata": {},
     "output_type": "display_data"
    }
   ],
   "source": [
    "%%lamb\n",
    "Consistency = L x_e : L att_<e,{s}> : L cs_{s} : ~((cs & att(x)) <=> {})"
   ]
  },
  {
   "cell_type": "markdown",
   "id": "bb460be3-a29c-4a7d-8f6e-e2486bc41437",
   "metadata": {},
   "source": [
    "`Inf` extracts the informative content of an issue as a set of worlds, used in defining Quality."
   ]
  },
  {
   "cell_type": "code",
   "execution_count": 10,
   "id": "ba9a43db-bb20-49d7-9b09-d89fde854fdf",
   "metadata": {},
   "outputs": [
    {
     "data": {
      "text/markdown": [
       "${Inf}_{\\left\\langle{}\\left\\{\\left\\{s\\right\\}\\right\\},\\left\\{s\\right\\}\\right\\rangle{}}\\:=\\:\\lambda{} p_{\\left\\{\\left\\{s\\right\\}\\right\\}} \\: . \\: \\{{w}_{s} \\:|\\: \\exists{} r_{\\left\\{s\\right\\}} \\in {\\small {p}_{\\left\\{\\left\\{s\\right\\}\\right\\}}} \\: . \\: {w}_{s} \\in{} {r}\\}$"
      ],
      "text/plain": [
       "Inf_<{{s}},{s}> = (λ p_{{s}}: (Set w_s: (Exists r_{s} << p_{{s}}: (w_s << r_{s}))))"
      ]
     },
     "metadata": {},
     "output_type": "display_data"
    }
   ],
   "source": [
    "%%lamb\n",
    "Inf = L p_{{s}} : Set w_s: Exists r_{s} << p : w << r"
   ]
  },
  {
   "cell_type": "code",
   "execution_count": 11,
   "id": "9969dc6d-5eb9-4563-9740-e4b0e3832fc3",
   "metadata": {},
   "outputs": [
    {
     "data": {
      "text/markdown": [
       "${Quality1}_{\\left\\langle{}e,\\left\\langle{}\\left\\langle{}e,\\left\\{s\\right\\}\\right\\rangle{},\\left\\langle{}\\left\\{\\left\\{s\\right\\}\\right\\},t\\right\\rangle{}\\right\\rangle{}\\right\\rangle{}}\\:=\\:\\lambda{} x_{e} \\: . \\: \\lambda{} att_{\\left\\langle{}e,\\left\\{s\\right\\}\\right\\rangle{}} \\: . \\: \\lambda{} p_{\\left\\{\\left\\{s\\right\\}\\right\\}} \\: . \\: \\neg{} (\\forall{} x1_{s} \\: . \\: \\neg{} ({x1} \\in{} ({att}({x}) \\cap{} \\{{w}_{s} \\:|\\: \\exists{} r_{\\left\\{s\\right\\}} \\in {\\small {p}_{\\left\\{\\left\\{s\\right\\}\\right\\}}} \\: . \\: {w}_{s} \\in{} {r}\\})))$<br />\n",
       "${Quality2}_{\\left\\langle{}e,\\left\\langle{}\\left\\langle{}e,\\left\\{s\\right\\}\\right\\rangle{},\\left\\langle{}\\left\\{\\left\\{s\\right\\}\\right\\},t\\right\\rangle{}\\right\\rangle{}\\right\\rangle{}}\\:=\\:\\lambda{} x_{e} \\: . \\: \\lambda{} att_{\\left\\langle{}e,\\left\\{s\\right\\}\\right\\rangle{}} \\: . \\: \\lambda{} p_{\\left\\{\\left\\{s\\right\\}\\right\\}} \\: . \\: {att}({x}) = ({att}({x}) \\cap{} \\{{w}_{s} \\:|\\: \\exists{} r_{\\left\\{s\\right\\}} \\in {\\small {p}_{\\left\\{\\left\\{s\\right\\}\\right\\}}} \\: . \\: {w}_{s} \\in{} {r}\\})$"
      ],
      "text/plain": [
       "Quality1_<e,<<e,{s}>,<{{s}},t>>> = (λ x_e: (λ att_<e,{s}>: (λ p_{{s}}: ~(Forall x1_s: ~(x1_s << (att_<e,{s}>(x_e) & (Set w_s: (Exists r_{s} << p_{{s}}: (w_s << r_{s})))))))))\n",
       "Quality2_<e,<<e,{s}>,<{{s}},t>>> = (λ x_e: (λ att_<e,{s}>: (λ p_{{s}}: (att_<e,{s}>(x_e) <=> (att_<e,{s}>(x_e) & (Set w_s: (Exists r_{s} << p_{{s}}: (w_s << r_{s}))))))))"
      ]
     },
     "metadata": {},
     "output_type": "display_data"
    }
   ],
   "source": [
    "%%lamb\n",
    "Quality1 = L x_e : L att_<e,{s}> : L p_{{s}} : ~((att(x) & Inf(p)) <=> {})\n",
    "Quality2 = L x_e : L att_<e,{s}> : L p_{{s}} : (att(x) <= Inf(p))\n",
    "                                                 "
   ]
  },
  {
   "cell_type": "markdown",
   "id": "bcb59090-0588-41b4-aa79-c36d987598bc",
   "metadata": {},
   "source": [
    "Resolvedness is the trickiest to define; I would not want to pretend that this is the final word. This version says: if the informational content of a move is not resolving, the agent's belief state should not narrow the current QUD.\n",
    "\n",
    "* One tweak not done here: incorporate partial resolution."
   ]
  },
  {
   "cell_type": "code",
   "execution_count": 12,
   "id": "e0e4fafd-cc58-4d89-b03d-271af94392db",
   "metadata": {},
   "outputs": [
    {
     "data": {
      "text/markdown": [
       "${Resolvedness}_{\\left\\langle{}e,\\left\\langle{}\\left\\langle{}e,\\left\\{s\\right\\}\\right\\rangle{},\\left\\langle{}\\left\\{\\left\\{s\\right\\}\\right\\},\\left\\langle{}\\left\\{\\left\\{s\\right\\}\\right\\},t\\right\\rangle{}\\right\\rangle{}\\right\\rangle{}\\right\\rangle{}}\\:=\\:\\lambda{} x_{e} \\: . \\: \\lambda{} att_{\\left\\langle{}e,\\left\\{s\\right\\}\\right\\rangle{}} \\: . \\: \\lambda{} qud_{\\left\\{\\left\\{s\\right\\}\\right\\}} \\: . \\: \\lambda{} p_{\\left\\{\\left\\{s\\right\\}\\right\\}} \\: . \\: \\neg{} (\\{{w}_{s} \\:|\\: \\exists{} r_{\\left\\{s\\right\\}} \\in {\\small {p}_{\\left\\{\\left\\{s\\right\\}\\right\\}}} \\: . \\: {w}_{s} \\in{} {r}\\} \\in{} {qud}) \\rightarrow{} (({qud} \\cap{} \\{{q}_{\\left\\{s\\right\\}} \\:|\\: ({q}_{\\left\\{s\\right\\}} = ({q}_{\\left\\{s\\right\\}} \\cap{} {att}({x}))) \\wedge{} \\neg{} (\\forall{} x1_{s} \\: . \\: \\neg{} ({x1} \\in{} {q}_{\\left\\{s\\right\\}}))\\}) = {qud})$"
      ],
      "text/plain": [
       "Resolvedness_<e,<<e,{s}>,<{{s}},<{{s}},t>>>> = (λ x_e: (λ att_<e,{s}>: (λ qud_{{s}}: (λ p_{{s}}: (~((Set w_s: (Exists r_{s} << p_{{s}}: (w_s << r_{s}))) << qud_{{s}}) >> ((qud_{{s}} & (Set q_{s}: ((q_{s} <=> (q_{s} & att_<e,{s}>(x_e))) & ~(Forall x1_s: ~(x1_s << q_{s}))))) <=> qud_{{s}}))))))"
      ]
     },
     "metadata": {},
     "output_type": "display_data"
    }
   ],
   "source": [
    "%%lamb\n",
    "Resolvedness = L x_e : L att_<e,{s}> : L qud_{{s}} : L p_{{s}} : ~(Inf(p) << qud) => ((qud & Down({att(x)})) <=> qud)"
   ]
  },
  {
   "cell_type": "code",
   "execution_count": 13,
   "id": "7b2a5412-724c-4fa8-84b6-a6e439756bab",
   "metadata": {},
   "outputs": [
    {
     "data": {
      "text/latex": [
       "$\\textsf{Fun[\\{c0:\\{w0,w1\\},c1:\\{w0\\}\\}]}_{\\left\\langle{}e,\\left\\{s\\right\\}\\right\\rangle{}}$"
      ],
      "text/plain": [
       "{_c0: {_w0,_w1}, _c1: {_w0}}"
      ]
     },
     "execution_count": 13,
     "metadata": {},
     "output_type": "execute_result"
    }
   ],
   "source": [
    "dox = meta.MetaTerm({'_c0': {'_w0', '_w1'}, '_c1': {'_w0'}})\n",
    "dox"
   ]
  },
  {
   "cell_type": "code",
   "execution_count": 14,
   "id": "1f530976-586b-4ceb-8fe8-c69f9946637b",
   "metadata": {},
   "outputs": [
    {
     "data": {
      "text/latex": [
       "$\\neg{} (\\forall{} x1_{s} \\: . \\: \\neg{} {x1} = \\textsf{w0}_{s})$"
      ],
      "text/plain": [
       "¬(Forall x1_s: ~(x1_s <=> _w0))"
      ]
     },
     "execution_count": 14,
     "metadata": {},
     "output_type": "execute_result"
    }
   ],
   "source": [
    "Consistency(te('_c1'))(dox)(te('{_w0}')).simplify_all(reduce=True)"
   ]
  },
  {
   "cell_type": "code",
   "execution_count": null,
   "id": "f54a2394-74c1-4558-b93c-f4ea57237f52",
   "metadata": {},
   "outputs": [],
   "source": []
  },
  {
   "cell_type": "markdown",
   "id": "ad6c5acd-0baa-4a76-b6bb-48ef1365bf38",
   "metadata": {},
   "source": [
    "Here's a constraint you might consider, but that this system does not use:"
   ]
  },
  {
   "cell_type": "code",
   "execution_count": 15,
   "id": "e6f63ddc-317a-4664-83a7-2885f634d4b1",
   "metadata": {},
   "outputs": [
    {
     "data": {
      "text/markdown": [
       "${OutputResolvedness}_{\\left\\langle{}\\left\\{\\left\\{s\\right\\}\\right\\},\\left\\langle{}\\left\\{s\\right\\},t\\right\\rangle{}\\right\\rangle{}}\\:=\\:\\lambda{} qud_{\\left\\{\\left\\{s\\right\\}\\right\\}} \\: . \\: \\lambda{} cs_{\\left\\{s\\right\\}} \\: . \\: {cs} \\in{} {qud}$"
      ],
      "text/plain": [
       "OutputResolvedness_<{{s}},<{s},t>> = (λ qud_{{s}}: (λ cs_{s}: (cs_{s} << qud_{{s}})))"
      ]
     },
     "metadata": {},
     "output_type": "display_data"
    }
   ],
   "source": [
    "%%lamb\n",
    "OutputResolvedness = L qud_{{s}} : L cs_{s} : cs << qud"
   ]
  },
  {
   "cell_type": "code",
   "execution_count": null,
   "id": "d071c133-cba7-4cbd-8a4b-4ea3023d95b5",
   "metadata": {},
   "outputs": [],
   "source": []
  },
  {
   "cell_type": "markdown",
   "id": "5fe386c0-082b-4045-a8dc-200fc552762f",
   "metadata": {},
   "source": [
    "## Calculating utilities for the PPQ example\n",
    "\n",
    "The remainder of this notebook provides code to calculate the utilities of move sequences in a toy example that (primarily) involves A-B-A move sequences where:\n",
    "\n",
    "1. A asks a polar question (\"Is it raining?\")\n",
    "2. B gives a response (\"yes\", \"no\", \"I don't know\")\n",
    "3. A gives a further response (\"ok\", \"disagree\")\n",
    "\n",
    "At each state we model the doxastic state of each agent as well as the context set. In this extremely simplified domain, we will work with two worlds, one in which it is raining, and one in which it is not."
   ]
  },
  {
   "cell_type": "code",
   "execution_count": 16,
   "id": "26745961-a083-41d0-9384-e77bf9139fc9",
   "metadata": {},
   "outputs": [],
   "source": [
    "# resets domain restrictions from below\n",
    "meta.get_type_system().reset_domains()"
   ]
  },
  {
   "cell_type": "code",
   "execution_count": 17,
   "id": "0f65b681-a885-4d0c-abc3-121bfc46a06a",
   "metadata": {},
   "outputs": [
    {
     "data": {
      "text/markdown": [
       "**Domain**: <br />$D_{e} = \\{\\textsf{c0}_{e}, \\textsf{c1}_{e}\\}$<br />$D_{s} = \\{\\textsf{w0}_{s}, \\textsf{w1}_{s}\\}$<br />**Valuations**:<br />$\\left[\\begin{array}{lll} A & \\rightarrow & \\textsf{c0}_{e} \\\\\n",
       "B & \\rightarrow & \\textsf{c1}_{e} \\\\\n",
       "Rain & \\rightarrow & \\textsf{Fun[\\{w0\\}]}_{\\left\\langle{}s,t\\right\\rangle{}} \\\\ \\end{array}\\right]$"
      ],
      "text/plain": [
       "Model(assignment={'A': _c0, 'B': _c1, 'Rain': Fun[{_w0}]},\n",
       "      domain={e: {_c0, _c1}, s: {_w0, _w1}},\n",
       "      strict_charfuns=True)"
      ]
     },
     "execution_count": 17,
     "metadata": {},
     "output_type": "execute_result"
    }
   ],
   "source": [
    "m2 = meta.Model({'A': '_c0', 'B': '_c1'}, domain={'_c0', '_c1'}).expand(te('Rain_<s,t>'))\n",
    "m2"
   ]
  },
  {
   "cell_type": "markdown",
   "id": "d9136df8-1554-4f73-9832-091215edcdc2",
   "metadata": {},
   "source": [
    "Use `m2` as a domain restriction for everything following the execution of the next cell:"
   ]
  },
  {
   "cell_type": "code",
   "execution_count": 18,
   "id": "bd3cb880-5a23-4638-8a5c-0c8b17e28711",
   "metadata": {},
   "outputs": [],
   "source": [
    "meta.get_type_system().reset_domains()\n",
    "meta.get_type_system().modify_domains(m2)"
   ]
  },
  {
   "cell_type": "code",
   "execution_count": 19,
   "id": "4f0fc6fe-c39b-48cb-a598-76aca61a274b",
   "metadata": {},
   "outputs": [
    {
     "data": {
      "text/markdown": [
       "$[\\![\\text{\\textbf{yes}}]\\!]^{}_{\\left\\langle{}s,t\\right\\rangle{}} \\:=\\: {Rain}_{\\left\\langle{}s,t\\right\\rangle{}}$<br />\n",
       "$[\\![\\text{\\textbf{no}}]\\!]^{}_{\\left\\langle{}s,t\\right\\rangle{}} \\:=\\: \\lambda{} w_{s} \\: . \\: \\neg{} {Rain}_{\\left\\langle{}s,t\\right\\rangle{}}({w})$<br />\n",
       "$[\\![\\text{\\textbf{idk}}]\\!]^{}_{\\left\\langle{}s,t\\right\\rangle{}} \\:=\\: \\lambda{} w_{s} \\: . \\: \\textsf{True}$"
      ],
      "text/plain": [
       "⟦yes⟧ = Rain_<s,t>\n",
       "⟦no⟧ = (λ w_s: ~Rain_<s,t>(w_s))\n",
       "⟦idk⟧ = (λ w_s: True)"
      ]
     },
     "metadata": {},
     "output_type": "display_data"
    }
   ],
   "source": [
    "%%lamb\n",
    "||yes|| = Rain_<s,t>\n",
    "||no|| = Neg(Rain_<s,t>)\n",
    "||idk|| = L w_s : True # obviously not a complete theory of \"I don't know\""
   ]
  },
  {
   "cell_type": "markdown",
   "id": "6493764b-dd0e-4c2f-bf92-86ee5977d31b",
   "metadata": {},
   "source": [
    "To model B's moves, we will use (set version of) the above lexicon for their pure content. To model confirmation/disagreement, below I implement these in pure python code."
   ]
  },
  {
   "cell_type": "code",
   "execution_count": 20,
   "id": "418a3d2d-e7e6-4787-be59-b227be727950",
   "metadata": {},
   "outputs": [],
   "source": [
    "# this is really far from a complete table implementation!\n",
    "\n",
    "def move_repr(move, latex=False):\n",
    "    if isinstance(move, str):\n",
    "        return move\n",
    "    elif isinstance(move, lang.Item):\n",
    "        return move.short_str(latex=latex)\n",
    "    elif latex:\n",
    "        return move.latex_str()\n",
    "    else:\n",
    "        return repr(move)\n",
    "\n",
    "\n",
    "class Table:\n",
    "    def __init__(self, model):\n",
    "        self.m = model\n",
    "        self.context = set(self.m.domains[tp('s')])\n",
    "        self.moves = []\n",
    "        self.move_names = []\n",
    "    \n",
    "    def copy(self):\n",
    "        r = Table(self.m.copy())\n",
    "        r.context = set(self.context)\n",
    "        r.moves = list(self.moves)\n",
    "        r.move_names = list(self.move_names)\n",
    "        return r\n",
    "\n",
    "    def _update(self, s, proposition):\n",
    "        if proposition.type == tp('<s,t>'):\n",
    "            inf = self.m.evaluate(te('L p_<s,t> : Set w_s : p(w)')(proposition))\n",
    "        else:\n",
    "            # otherwise, assume an issue\n",
    "            inf = Inf(proposition).simplify_all(reduce=True)\n",
    "        return (inf & s).simplify_all().set()\n",
    "\n",
    "    def update(self, agent, proposition):\n",
    "        self.move_names.append(proposition)\n",
    "        if isinstance(proposition, lang.Item):\n",
    "            proposition = proposition.content\n",
    "        # self.context = self._update(self.context, proposition)\n",
    "        self.moves.append(proposition)\n",
    "\n",
    "    def update_dox(self, agent, proposition):\n",
    "        m = self.m.copy()\n",
    "        dox_map = dict(m['Dox'].op) # XX requires hashable\n",
    "        agent = m.evaluate(agent)\n",
    "        dox_map[agent] = self._update(dox_map[agent], proposition)\n",
    "        m['Dox'] = meta.MetaTerm(dox_map, typ=m['Dox'].type)\n",
    "        self.m = m\n",
    "\n",
    "    def ok(self, agent):\n",
    "        antecedent = self.moves[-1]\n",
    "        self.context = self._update(self.context, antecedent)\n",
    "        self.update_dox(agent, antecedent)\n",
    "        self.moves.append(None)\n",
    "        self.move_names.append('ok')\n",
    "\n",
    "    def disagree(self, agent):\n",
    "        # no change to agent's doxastic state or public context. Note that this move\n",
    "        # will be treated below as having semantic content equivalent to the negation\n",
    "        # of its antecedent.\n",
    "        # not modeled: second order effect of revealing doxastic state\n",
    "        self.moves.append(Neg(self.moves[-1]))\n",
    "        self.move_names.append('disagree')\n",
    "\n",
    "    def apply_move(self, agent, move):\n",
    "        if move == 'ok':\n",
    "            self.ok(agent)\n",
    "        elif move == 'disagree':\n",
    "            self.disagree(agent)\n",
    "        else:\n",
    "            self.update(agent, move)\n",
    "    \n",
    "    def move_repr(self, i, latex=False):\n",
    "        return move_repr(self.move_names[i], latex=latex)\n"
   ]
  },
  {
   "cell_type": "code",
   "execution_count": null,
   "id": "de71d57b-6516-4443-906b-2be2d9a3114e",
   "metadata": {},
   "outputs": [],
   "source": []
  },
  {
   "cell_type": "code",
   "execution_count": null,
   "id": "0e0b39fe-ec3f-4ca7-a109-52bbe9debbbd",
   "metadata": {},
   "outputs": [],
   "source": []
  },
  {
   "cell_type": "code",
   "execution_count": 21,
   "id": "4b4eb439-0c30-49ed-9230-cc1df8b95e99",
   "metadata": {},
   "outputs": [
    {
     "data": {
      "text/markdown": [
       "${Pow}_{\\left\\langle{}\\left\\{X\\right\\},\\left\\{\\left\\{X\\right\\}\\right\\}\\right\\rangle{}}\\:=\\:\\lambda{} x_{\\left\\{X\\right\\}} \\: . \\: \\{{y}_{\\left\\{X\\right\\}} \\:|\\: {y}_{\\left\\{X\\right\\}} = ({x} \\cap{} {y}_{\\left\\{X\\right\\}})\\}$"
      ],
      "text/plain": [
       "Pow_<{X},{{X}}> = (λ x_{X}: (Set y_{X}: (y_{X} <=> (x_{X} & y_{X}))))"
      ]
     },
     "metadata": {},
     "output_type": "display_data"
    }
   ],
   "source": [
    "%%lamb\n",
    "Pow = L x_{X} : Set y_{X} : y <= x"
   ]
  },
  {
   "cell_type": "code",
   "execution_count": 22,
   "id": "3c3f7056-02e4-41ab-b995-cff58dee90cb",
   "metadata": {},
   "outputs": [
    {
     "data": {
      "text/latex": [
       "$\\{\\{\\textsf{w0}_{s}\\}, \\{\\textsf{w1}_{s}\\}, \\{\\textsf{w0}_{s}, \\textsf{w1}_{s}\\}\\}$"
      ],
      "text/plain": [
       "{{_w1}, {_w1, _w0}, {_w0}}"
      ]
     },
     "execution_count": 22,
     "metadata": {},
     "output_type": "execute_result"
    }
   ],
   "source": [
    "pow_dom = (Pow(te('(Set w_s : True)')) - te('{{}}')).simplify_all(reduce=True, eliminate_sets=True)\n",
    "pow_dom"
   ]
  },
  {
   "cell_type": "markdown",
   "id": "5912dd54-812c-4eba-8717-41fa28a7ad5b",
   "metadata": {},
   "source": [
    "The following cell prints the effect of each move sequence on the context and possible doxastic state."
   ]
  },
  {
   "cell_type": "code",
   "execution_count": 23,
   "id": "9d5fcfdf-964b-4734-8c33-143b4ab20f58",
   "metadata": {},
   "outputs": [
    {
     "name": "stdout",
     "output_type": "stream",
     "text": [
      "\n",
      "Turn 2 move: ⟦yes⟧\n",
      "    c + ⟦yes⟧ + ok = {_w0}: Dox_A: {_w0}, Dox_B: {_w0}, Output Dox: {_c0: {_w0}, _c1: {_w0}}\n",
      "    c + ⟦yes⟧ + ok = {_w0}: Dox_A: {_w0}, Dox_B: {_w1}, Output Dox: {_c0: {_w0}, _c1: {_w1}}\n",
      "    c + ⟦yes⟧ + ok = {_w0}: Dox_A: {_w0}, Dox_B: {_w1, _w0}, Output Dox: {_c0: {_w0}, _c1: {_w0,_w1}}\n",
      "    c + ⟦yes⟧ + ok = {_w0}: Dox_A: {_w1}, Dox_B: {_w0}, Output Dox: {_c0: {}, _c1: {_w0}}\n",
      "    c + ⟦yes⟧ + ok = {_w0}: Dox_A: {_w1}, Dox_B: {_w1}, Output Dox: {_c0: {}, _c1: {_w1}}\n",
      "    c + ⟦yes⟧ + ok = {_w0}: Dox_A: {_w1}, Dox_B: {_w1, _w0}, Output Dox: {_c0: {}, _c1: {_w0,_w1}}\n",
      "    c + ⟦yes⟧ + ok = {_w0}: Dox_A: {_w1, _w0}, Dox_B: {_w0}, Output Dox: {_c0: {_w0}, _c1: {_w0}}\n",
      "    c + ⟦yes⟧ + ok = {_w0}: Dox_A: {_w1, _w0}, Dox_B: {_w1}, Output Dox: {_c0: {_w0}, _c1: {_w1}}\n",
      "    c + ⟦yes⟧ + ok = {_w0}: Dox_A: {_w1, _w0}, Dox_B: {_w1, _w0}, Output Dox: {_c0: {_w0}, _c1: {_w0,_w1}}\n",
      "    c + ⟦yes⟧ + disagree = {_w1, _w0}: Dox_A: {_w0}, Dox_B: {_w0}, Output Dox: {_c0: {_w0}, _c1: {_w0}}\n",
      "    c + ⟦yes⟧ + disagree = {_w1, _w0}: Dox_A: {_w0}, Dox_B: {_w1}, Output Dox: {_c0: {_w0}, _c1: {_w1}}\n",
      "    c + ⟦yes⟧ + disagree = {_w1, _w0}: Dox_A: {_w0}, Dox_B: {_w1, _w0}, Output Dox: {_c0: {_w0}, _c1: {_w0,_w1}}\n",
      "    c + ⟦yes⟧ + disagree = {_w1, _w0}: Dox_A: {_w1}, Dox_B: {_w0}, Output Dox: {_c0: {_w1}, _c1: {_w0}}\n",
      "    c + ⟦yes⟧ + disagree = {_w1, _w0}: Dox_A: {_w1}, Dox_B: {_w1}, Output Dox: {_c0: {_w1}, _c1: {_w1}}\n",
      "    c + ⟦yes⟧ + disagree = {_w1, _w0}: Dox_A: {_w1}, Dox_B: {_w1, _w0}, Output Dox: {_c0: {_w1}, _c1: {_w0,_w1}}\n",
      "    c + ⟦yes⟧ + disagree = {_w1, _w0}: Dox_A: {_w1, _w0}, Dox_B: {_w0}, Output Dox: {_c0: {_w0,_w1}, _c1: {_w0}}\n",
      "    c + ⟦yes⟧ + disagree = {_w1, _w0}: Dox_A: {_w1, _w0}, Dox_B: {_w1}, Output Dox: {_c0: {_w0,_w1}, _c1: {_w1}}\n",
      "    c + ⟦yes⟧ + disagree = {_w1, _w0}: Dox_A: {_w1, _w0}, Dox_B: {_w1, _w0}, Output Dox: {_c0: {_w0,_w1}, _c1: {_w0,_w1}}\n",
      "\n",
      "Turn 2 move: ⟦no⟧\n",
      "    c + ⟦no⟧ + ok = {_w1}: Dox_A: {_w0}, Dox_B: {_w0}, Output Dox: {_c0: {}, _c1: {_w0}}\n",
      "    c + ⟦no⟧ + ok = {_w1}: Dox_A: {_w0}, Dox_B: {_w1}, Output Dox: {_c0: {}, _c1: {_w1}}\n",
      "    c + ⟦no⟧ + ok = {_w1}: Dox_A: {_w0}, Dox_B: {_w1, _w0}, Output Dox: {_c0: {}, _c1: {_w0,_w1}}\n",
      "    c + ⟦no⟧ + ok = {_w1}: Dox_A: {_w1}, Dox_B: {_w0}, Output Dox: {_c0: {_w1}, _c1: {_w0}}\n",
      "    c + ⟦no⟧ + ok = {_w1}: Dox_A: {_w1}, Dox_B: {_w1}, Output Dox: {_c0: {_w1}, _c1: {_w1}}\n",
      "    c + ⟦no⟧ + ok = {_w1}: Dox_A: {_w1}, Dox_B: {_w1, _w0}, Output Dox: {_c0: {_w1}, _c1: {_w0,_w1}}\n",
      "    c + ⟦no⟧ + ok = {_w1}: Dox_A: {_w1, _w0}, Dox_B: {_w0}, Output Dox: {_c0: {_w1}, _c1: {_w0}}\n",
      "    c + ⟦no⟧ + ok = {_w1}: Dox_A: {_w1, _w0}, Dox_B: {_w1}, Output Dox: {_c0: {_w1}, _c1: {_w1}}\n",
      "    c + ⟦no⟧ + ok = {_w1}: Dox_A: {_w1, _w0}, Dox_B: {_w1, _w0}, Output Dox: {_c0: {_w1}, _c1: {_w0,_w1}}\n",
      "    c + ⟦no⟧ + disagree = {_w1, _w0}: Dox_A: {_w0}, Dox_B: {_w0}, Output Dox: {_c0: {_w0}, _c1: {_w0}}\n",
      "    c + ⟦no⟧ + disagree = {_w1, _w0}: Dox_A: {_w0}, Dox_B: {_w1}, Output Dox: {_c0: {_w0}, _c1: {_w1}}\n",
      "    c + ⟦no⟧ + disagree = {_w1, _w0}: Dox_A: {_w0}, Dox_B: {_w1, _w0}, Output Dox: {_c0: {_w0}, _c1: {_w0,_w1}}\n",
      "    c + ⟦no⟧ + disagree = {_w1, _w0}: Dox_A: {_w1}, Dox_B: {_w0}, Output Dox: {_c0: {_w1}, _c1: {_w0}}\n",
      "    c + ⟦no⟧ + disagree = {_w1, _w0}: Dox_A: {_w1}, Dox_B: {_w1}, Output Dox: {_c0: {_w1}, _c1: {_w1}}\n",
      "    c + ⟦no⟧ + disagree = {_w1, _w0}: Dox_A: {_w1}, Dox_B: {_w1, _w0}, Output Dox: {_c0: {_w1}, _c1: {_w0,_w1}}\n",
      "    c + ⟦no⟧ + disagree = {_w1, _w0}: Dox_A: {_w1, _w0}, Dox_B: {_w0}, Output Dox: {_c0: {_w0,_w1}, _c1: {_w0}}\n",
      "    c + ⟦no⟧ + disagree = {_w1, _w0}: Dox_A: {_w1, _w0}, Dox_B: {_w1}, Output Dox: {_c0: {_w0,_w1}, _c1: {_w1}}\n",
      "    c + ⟦no⟧ + disagree = {_w1, _w0}: Dox_A: {_w1, _w0}, Dox_B: {_w1, _w0}, Output Dox: {_c0: {_w0,_w1}, _c1: {_w0,_w1}}\n",
      "\n",
      "Turn 2 move: ⟦idk⟧\n",
      "    c + ⟦idk⟧ + ok = {_w1, _w0}: Dox_A: {_w0}, Dox_B: {_w0}, Output Dox: {_c0: {_w0}, _c1: {_w0}}\n",
      "    c + ⟦idk⟧ + ok = {_w1, _w0}: Dox_A: {_w0}, Dox_B: {_w1}, Output Dox: {_c0: {_w0}, _c1: {_w1}}\n",
      "    c + ⟦idk⟧ + ok = {_w1, _w0}: Dox_A: {_w0}, Dox_B: {_w1, _w0}, Output Dox: {_c0: {_w0}, _c1: {_w0,_w1}}\n",
      "    c + ⟦idk⟧ + ok = {_w1, _w0}: Dox_A: {_w1}, Dox_B: {_w0}, Output Dox: {_c0: {_w1}, _c1: {_w0}}\n",
      "    c + ⟦idk⟧ + ok = {_w1, _w0}: Dox_A: {_w1}, Dox_B: {_w1}, Output Dox: {_c0: {_w1}, _c1: {_w1}}\n",
      "    c + ⟦idk⟧ + ok = {_w1, _w0}: Dox_A: {_w1}, Dox_B: {_w1, _w0}, Output Dox: {_c0: {_w1}, _c1: {_w0,_w1}}\n",
      "    c + ⟦idk⟧ + ok = {_w1, _w0}: Dox_A: {_w1, _w0}, Dox_B: {_w0}, Output Dox: {_c0: {_w0,_w1}, _c1: {_w0}}\n",
      "    c + ⟦idk⟧ + ok = {_w1, _w0}: Dox_A: {_w1, _w0}, Dox_B: {_w1}, Output Dox: {_c0: {_w0,_w1}, _c1: {_w1}}\n",
      "    c + ⟦idk⟧ + ok = {_w1, _w0}: Dox_A: {_w1, _w0}, Dox_B: {_w1, _w0}, Output Dox: {_c0: {_w0,_w1}, _c1: {_w0,_w1}}\n",
      "    c + ⟦idk⟧ + disagree = {_w1, _w0}: Dox_A: {_w0}, Dox_B: {_w0}, Output Dox: {_c0: {_w0}, _c1: {_w0}}\n",
      "    c + ⟦idk⟧ + disagree = {_w1, _w0}: Dox_A: {_w0}, Dox_B: {_w1}, Output Dox: {_c0: {_w0}, _c1: {_w1}}\n",
      "    c + ⟦idk⟧ + disagree = {_w1, _w0}: Dox_A: {_w0}, Dox_B: {_w1, _w0}, Output Dox: {_c0: {_w0}, _c1: {_w0,_w1}}\n",
      "    c + ⟦idk⟧ + disagree = {_w1, _w0}: Dox_A: {_w1}, Dox_B: {_w0}, Output Dox: {_c0: {_w1}, _c1: {_w0}}\n",
      "    c + ⟦idk⟧ + disagree = {_w1, _w0}: Dox_A: {_w1}, Dox_B: {_w1}, Output Dox: {_c0: {_w1}, _c1: {_w1}}\n",
      "    c + ⟦idk⟧ + disagree = {_w1, _w0}: Dox_A: {_w1}, Dox_B: {_w1, _w0}, Output Dox: {_c0: {_w1}, _c1: {_w0,_w1}}\n",
      "    c + ⟦idk⟧ + disagree = {_w1, _w0}: Dox_A: {_w1, _w0}, Dox_B: {_w0}, Output Dox: {_c0: {_w0,_w1}, _c1: {_w0}}\n",
      "    c + ⟦idk⟧ + disagree = {_w1, _w0}: Dox_A: {_w1, _w0}, Dox_B: {_w1}, Output Dox: {_c0: {_w0,_w1}, _c1: {_w1}}\n",
      "    c + ⟦idk⟧ + disagree = {_w1, _w0}: Dox_A: {_w1, _w0}, Dox_B: {_w1, _w0}, Output Dox: {_c0: {_w0,_w1}, _c1: {_w0,_w1}}\n"
     ]
    }
   ],
   "source": [
    "base_table = Table(m2)\n",
    "qud = qud = m2.evaluate((Pol * rain)[0].content)\n",
    "base_table.update(te('A_e'), qud)\n",
    "\n",
    "b_moves = [yes, no, idk]\n",
    "# a_moves = [yes, no, idk, ok, disagree]\n",
    "# a_moves = [ok, disagree]\n",
    "a_moves = ['ok', 'disagree']\n",
    "\n",
    "for turn2 in b_moves:\n",
    "    print(f\"\\nTurn 2 move: {move_repr(turn2)}\")\n",
    "    for turn3 in a_moves:\n",
    "        for a in pow_dom:\n",
    "            for b in pow_dom:\n",
    "                table = base_table.copy()\n",
    "                table.m['Dox'] = meta.MetaTerm({'_c0': a.set(), '_c1': b.set()})\n",
    "                table.apply_move(te('B_e'), turn2)\n",
    "                table.apply_move(te('A_e'), turn3)\n",
    "                # context, m2_turn2 = apply_move(context, m2_temp, te('B_e'), turn2, None)\n",
    "                # context, m2_turn3 = apply_move(context, m2_turn2, te('A_e'), turn3, antecedent=turn2)\n",
    "                print(\n",
    "                    f\"    c + {table.move_repr(1)} + {table.move_repr(2)} = {repr(set(table.context))}: \"\n",
    "                    f\"Dox_A: {repr(a)}, Dox_B: {repr(b)}, Output Dox: {table.m['Dox']}\"\n",
    "                )\n",
    "                # print(f\"Dox_A: {repr(a)}, Dox_B: {repr(b)}, context: {repr(set(context))}, move: {move_repr(turn2)}, Dox: {m2_turn2['Dox']}\")\n",
    "    "
   ]
  },
  {
   "cell_type": "markdown",
   "id": "13ebb649-7733-42bc-97c4-31323e81db5b",
   "metadata": {},
   "source": [
    "Finally, we have the full calculation. For each doxastic state, print:\n",
    "\n",
    "* the full set of constraint values for each agent\n",
    "* the utility matrix for each move combination\n",
    "* the set of equilibrium choices of move combinations\n",
    "\n",
    "Note: because this is locked to an A-B-A sequence, some interesting things with exam question scenarios happen! In particular, B has incentive to guess in scenarios where A knows the answer, to get A to reveal it. This would be blocked in some such scenarios by convention, and also be headed off by possible longer sequences where B doesn't violate Quality-2."
   ]
  },
  {
   "cell_type": "code",
   "execution_count": 24,
   "id": "a961ad03-c17e-4d4a-b826-635a3e682b4d",
   "metadata": {},
   "outputs": [
    {
     "name": "stdout",
     "output_type": "stream",
     "text": [
      "Dox_A: {_w0}, Dox_B: {_w0}:\n",
      "    c + ⟦yes⟧ + ok = {_w0}: Consistency: True, True Quality-1: True, True Quality-2: True, True Resolvedness: True, True \n",
      "    c + ⟦yes⟧ + disagree = {_w1, _w0}: Consistency: True, True Quality-1: False, True Quality-2: False, True Resolvedness: True, True \n",
      "    c + ⟦no⟧ + ok = {_w1}: Consistency: False, False Quality-1: False, False Quality-2: True, False Resolvedness: True, True \n",
      "    c + ⟦no⟧ + disagree = {_w1, _w0}: Consistency: True, True Quality-1: True, False Quality-2: True, False Resolvedness: True, True \n",
      "    c + ⟦idk⟧ + ok = {_w1, _w0}: Consistency: True, True Quality-1: True, True Quality-2: True, True Resolvedness: False, False \n",
      "    c + ⟦idk⟧ + disagree = {_w1, _w0}: Consistency: True, True Quality-1: False, True Quality-2: False, True Resolvedness: False, False \n",
      "\n",
      "\tok\tdisagree\n",
      "⟦yes⟧\t(4, 4)\t(2, 4)\n",
      "⟦no⟧\t(2, 1)\t(4, 2)\n",
      "⟦idk⟧\t(3, 3)\t(1, 3)\n",
      "\n",
      "Best: [('⟦yes⟧', 'ok')]\n",
      "\n",
      "Dox_A: {_w0}, Dox_B: {_w1}:\n",
      "    c + ⟦yes⟧ + ok = {_w0}: Consistency: True, False Quality-1: True, False Quality-2: True, False Resolvedness: True, True \n",
      "    c + ⟦yes⟧ + disagree = {_w1, _w0}: Consistency: True, True Quality-1: False, False Quality-2: False, False Resolvedness: True, True \n",
      "    c + ⟦no⟧ + ok = {_w1}: Consistency: False, True Quality-1: False, True Quality-2: True, True Resolvedness: True, True \n",
      "    c + ⟦no⟧ + disagree = {_w1, _w0}: Consistency: True, True Quality-1: True, True Quality-2: True, True Resolvedness: True, True \n",
      "    c + ⟦idk⟧ + ok = {_w1, _w0}: Consistency: True, True Quality-1: True, True Quality-2: True, True Resolvedness: False, False \n",
      "    c + ⟦idk⟧ + disagree = {_w1, _w0}: Consistency: True, True Quality-1: False, True Quality-2: False, True Resolvedness: False, False \n",
      "\n",
      "\tok\tdisagree\n",
      "⟦yes⟧\t(4, 1)\t(2, 2)\n",
      "⟦no⟧\t(2, 4)\t(4, 4)\n",
      "⟦idk⟧\t(3, 3)\t(1, 3)\n",
      "\n",
      "Best: [('⟦no⟧', 'disagree')]\n",
      "\n",
      "Dox_A: {_w0}, Dox_B: {_w1, _w0}:\n",
      "    c + ⟦yes⟧ + ok = {_w0}: Consistency: True, True Quality-1: True, True Quality-2: True, False Resolvedness: True, True \n",
      "    c + ⟦yes⟧ + disagree = {_w1, _w0}: Consistency: True, True Quality-1: False, True Quality-2: False, False Resolvedness: True, True \n",
      "    c + ⟦no⟧ + ok = {_w1}: Consistency: False, True Quality-1: False, True Quality-2: True, False Resolvedness: True, True \n",
      "    c + ⟦no⟧ + disagree = {_w1, _w0}: Consistency: True, True Quality-1: True, True Quality-2: True, False Resolvedness: True, True \n",
      "    c + ⟦idk⟧ + ok = {_w1, _w0}: Consistency: True, True Quality-1: True, True Quality-2: True, True Resolvedness: False, True \n",
      "    c + ⟦idk⟧ + disagree = {_w1, _w0}: Consistency: True, True Quality-1: False, True Quality-2: False, True Resolvedness: False, True \n",
      "\n",
      "\tok\tdisagree\n",
      "⟦yes⟧\t(4, 3)\t(2, 3)\n",
      "⟦no⟧\t(2, 3)\t(4, 3)\n",
      "⟦idk⟧\t(3, 4)\t(1, 4)\n",
      "\n",
      "Best: [('⟦yes⟧', 'ok'), ('⟦no⟧', 'disagree'), ('⟦idk⟧', 'ok')]\n",
      "\n",
      "Dox_A: {_w1}, Dox_B: {_w0}:\n",
      "    c + ⟦yes⟧ + ok = {_w0}: Consistency: False, True Quality-1: False, True Quality-2: True, True Resolvedness: True, True \n",
      "    c + ⟦yes⟧ + disagree = {_w1, _w0}: Consistency: True, True Quality-1: True, True Quality-2: True, True Resolvedness: True, True \n",
      "    c + ⟦no⟧ + ok = {_w1}: Consistency: True, False Quality-1: True, False Quality-2: True, False Resolvedness: True, True \n",
      "    c + ⟦no⟧ + disagree = {_w1, _w0}: Consistency: True, True Quality-1: False, False Quality-2: False, False Resolvedness: True, True \n",
      "    c + ⟦idk⟧ + ok = {_w1, _w0}: Consistency: True, True Quality-1: True, True Quality-2: True, True Resolvedness: False, False \n",
      "    c + ⟦idk⟧ + disagree = {_w1, _w0}: Consistency: True, True Quality-1: False, True Quality-2: False, True Resolvedness: False, False \n",
      "\n",
      "\tok\tdisagree\n",
      "⟦yes⟧\t(2, 4)\t(4, 4)\n",
      "⟦no⟧\t(4, 1)\t(2, 2)\n",
      "⟦idk⟧\t(3, 3)\t(1, 3)\n",
      "\n",
      "Best: [('⟦yes⟧', 'disagree')]\n",
      "\n",
      "Dox_A: {_w1}, Dox_B: {_w1}:\n",
      "    c + ⟦yes⟧ + ok = {_w0}: Consistency: False, False Quality-1: False, False Quality-2: True, False Resolvedness: True, True \n",
      "    c + ⟦yes⟧ + disagree = {_w1, _w0}: Consistency: True, True Quality-1: True, False Quality-2: True, False Resolvedness: True, True \n",
      "    c + ⟦no⟧ + ok = {_w1}: Consistency: True, True Quality-1: True, True Quality-2: True, True Resolvedness: True, True \n",
      "    c + ⟦no⟧ + disagree = {_w1, _w0}: Consistency: True, True Quality-1: False, True Quality-2: False, True Resolvedness: True, True \n",
      "    c + ⟦idk⟧ + ok = {_w1, _w0}: Consistency: True, True Quality-1: True, True Quality-2: True, True Resolvedness: False, False \n",
      "    c + ⟦idk⟧ + disagree = {_w1, _w0}: Consistency: True, True Quality-1: False, True Quality-2: False, True Resolvedness: False, False \n",
      "\n",
      "\tok\tdisagree\n",
      "⟦yes⟧\t(2, 1)\t(4, 2)\n",
      "⟦no⟧\t(4, 4)\t(2, 4)\n",
      "⟦idk⟧\t(3, 3)\t(1, 3)\n",
      "\n",
      "Best: [('⟦no⟧', 'ok')]\n",
      "\n",
      "Dox_A: {_w1}, Dox_B: {_w1, _w0}:\n",
      "    c + ⟦yes⟧ + ok = {_w0}: Consistency: False, True Quality-1: False, True Quality-2: True, False Resolvedness: True, True \n",
      "    c + ⟦yes⟧ + disagree = {_w1, _w0}: Consistency: True, True Quality-1: True, True Quality-2: True, False Resolvedness: True, True \n",
      "    c + ⟦no⟧ + ok = {_w1}: Consistency: True, True Quality-1: True, True Quality-2: True, False Resolvedness: True, True \n",
      "    c + ⟦no⟧ + disagree = {_w1, _w0}: Consistency: True, True Quality-1: False, True Quality-2: False, False Resolvedness: True, True \n",
      "    c + ⟦idk⟧ + ok = {_w1, _w0}: Consistency: True, True Quality-1: True, True Quality-2: True, True Resolvedness: False, True \n",
      "    c + ⟦idk⟧ + disagree = {_w1, _w0}: Consistency: True, True Quality-1: False, True Quality-2: False, True Resolvedness: False, True \n",
      "\n",
      "\tok\tdisagree\n",
      "⟦yes⟧\t(2, 3)\t(4, 3)\n",
      "⟦no⟧\t(4, 3)\t(2, 3)\n",
      "⟦idk⟧\t(3, 4)\t(1, 4)\n",
      "\n",
      "Best: [('⟦yes⟧', 'disagree'), ('⟦no⟧', 'ok'), ('⟦idk⟧', 'ok')]\n",
      "\n",
      "Dox_A: {_w1, _w0}, Dox_B: {_w0}:\n",
      "    c + ⟦yes⟧ + ok = {_w0}: Consistency: True, True Quality-1: True, True Quality-2: True, True Resolvedness: True, True \n",
      "    c + ⟦yes⟧ + disagree = {_w1, _w0}: Consistency: True, True Quality-1: True, True Quality-2: False, True Resolvedness: True, True \n",
      "    c + ⟦no⟧ + ok = {_w1}: Consistency: True, False Quality-1: True, False Quality-2: True, False Resolvedness: True, True \n",
      "    c + ⟦no⟧ + disagree = {_w1, _w0}: Consistency: True, True Quality-1: True, False Quality-2: False, False Resolvedness: True, True \n",
      "    c + ⟦idk⟧ + ok = {_w1, _w0}: Consistency: True, True Quality-1: True, True Quality-2: True, True Resolvedness: True, False \n",
      "    c + ⟦idk⟧ + disagree = {_w1, _w0}: Consistency: True, True Quality-1: False, True Quality-2: False, True Resolvedness: True, False \n",
      "\n",
      "\tok\tdisagree\n",
      "⟦yes⟧\t(4, 4)\t(3, 4)\n",
      "⟦no⟧\t(4, 1)\t(3, 2)\n",
      "⟦idk⟧\t(4, 3)\t(2, 3)\n",
      "\n",
      "Best: [('⟦yes⟧', 'ok')]\n",
      "\n",
      "Dox_A: {_w1, _w0}, Dox_B: {_w1}:\n",
      "    c + ⟦yes⟧ + ok = {_w0}: Consistency: True, False Quality-1: True, False Quality-2: True, False Resolvedness: True, True \n",
      "    c + ⟦yes⟧ + disagree = {_w1, _w0}: Consistency: True, True Quality-1: True, False Quality-2: False, False Resolvedness: True, True \n",
      "    c + ⟦no⟧ + ok = {_w1}: Consistency: True, True Quality-1: True, True Quality-2: True, True Resolvedness: True, True \n",
      "    c + ⟦no⟧ + disagree = {_w1, _w0}: Consistency: True, True Quality-1: True, True Quality-2: False, True Resolvedness: True, True \n",
      "    c + ⟦idk⟧ + ok = {_w1, _w0}: Consistency: True, True Quality-1: True, True Quality-2: True, True Resolvedness: True, False \n",
      "    c + ⟦idk⟧ + disagree = {_w1, _w0}: Consistency: True, True Quality-1: False, True Quality-2: False, True Resolvedness: True, False \n",
      "\n",
      "\tok\tdisagree\n",
      "⟦yes⟧\t(4, 1)\t(3, 2)\n",
      "⟦no⟧\t(4, 4)\t(3, 4)\n",
      "⟦idk⟧\t(4, 3)\t(2, 3)\n",
      "\n",
      "Best: [('⟦no⟧', 'ok')]\n",
      "\n",
      "Dox_A: {_w1, _w0}, Dox_B: {_w1, _w0}:\n",
      "    c + ⟦yes⟧ + ok = {_w0}: Consistency: True, True Quality-1: True, True Quality-2: True, False Resolvedness: True, True \n",
      "    c + ⟦yes⟧ + disagree = {_w1, _w0}: Consistency: True, True Quality-1: True, True Quality-2: False, False Resolvedness: True, True \n",
      "    c + ⟦no⟧ + ok = {_w1}: Consistency: True, True Quality-1: True, True Quality-2: True, False Resolvedness: True, True \n",
      "    c + ⟦no⟧ + disagree = {_w1, _w0}: Consistency: True, True Quality-1: True, True Quality-2: False, False Resolvedness: True, True \n",
      "    c + ⟦idk⟧ + ok = {_w1, _w0}: Consistency: True, True Quality-1: True, True Quality-2: True, True Resolvedness: True, True \n",
      "    c + ⟦idk⟧ + disagree = {_w1, _w0}: Consistency: True, True Quality-1: False, True Quality-2: False, True Resolvedness: True, True \n",
      "\n",
      "\tok\tdisagree\n",
      "⟦yes⟧\t(4, 3)\t(3, 3)\n",
      "⟦no⟧\t(4, 3)\t(3, 3)\n",
      "⟦idk⟧\t(4, 4)\t(2, 4)\n",
      "\n",
      "Best: [('⟦idk⟧', 'ok')]\n",
      "\n"
     ]
    }
   ],
   "source": [
    "base_table = Table(m2)\n",
    "qud = qud = m2.evaluate((Pol * rain)[0].content)\n",
    "base_table.update(te('A_e'), qud)\n",
    "\n",
    "b_moves = [yes, no, idk]\n",
    "a_moves = ['ok', 'disagree']\n",
    "\n",
    "for a in pow_dom:\n",
    "    for b in pow_dom:\n",
    "        score = {}\n",
    "        score_by_ag = {}\n",
    "        print(f\"Dox_A: {repr(a)}, Dox_B: {repr(b)}:\")\n",
    "        for i in range(len(b_moves)):\n",
    "            turn2 = b_moves[i]\n",
    "            for j in range(len(a_moves)):\n",
    "                table = base_table.copy()\n",
    "                table.m['Dox'] = meta.MetaTerm({'_c0': a.set(), '_c1': b.set()})\n",
    "                turn3 = a_moves[j]\n",
    "                # move 2: B's response to the question\n",
    "                # first we calculate quality\n",
    "                # TODO: integrate this into the Table object\n",
    "                with table.m.under() as m:\n",
    "                    turn2_set = m(te('L p_<s,t> : {(Set w_s : p(w))}')(turn2.content))\n",
    "                    quality1_B = %te lexicon Quality1(B)(Dox)\n",
    "                    quality1_B = quality1_B(turn2_set).simplify_all(reduce=True)\n",
    "                    quality2_B = %te lexicon Quality2(B)(Dox)\n",
    "                    quality2_B = quality2_B(turn2_set).simplify_all(reduce=True)\n",
    "\n",
    "                # then apply the move\n",
    "                table.apply_move(te('B_e'), turn2)\n",
    "                # move 3: A's response to B's response\n",
    "                # first we calculate quality. There is some manual handling of the python-implemented\n",
    "                # moves here.\n",
    "                with table.m.under() as m:\n",
    "                    quality1_A = %te lexicon Quality1(A)(Dox)\n",
    "                    if turn3 == 'ok':\n",
    "                        # apply quality A to the content of the accepted move\n",
    "                        turn3_set = turn2_set\n",
    "                    elif turn3 == 'disagree':\n",
    "                        # apply quality A/B to the negation of the accepted move\n",
    "                        turn3_set = m(te('L p_<s,t> : {(Set w_s : p(w))}')(Neg(turn2.content)))\n",
    "                    else:\n",
    "                        assert isinstance(turn3, lang.Item)\n",
    "                        turn3_set = m(te('L p_<s,t> : {(Set w_s : p(w))}')(turn3.content))\n",
    "                    quality1_A = quality1_A(turn3_set).simplify_all(reduce=True)\n",
    "\n",
    "                    if turn3 == 'ok':\n",
    "                        # no evidence constraint on accepting\n",
    "                        quality2_A = True\n",
    "                    else:\n",
    "                        quality2_A = %te lexicon Quality2(A)(Dox)\n",
    "                        quality2_A = quality2_A(turn3_set).simplify_all(reduce=True)\n",
    "\n",
    "                # then apply turn 2\n",
    "                table.apply_move(te('A_e'), turn3)\n",
    "\n",
    "                # finally, calculate the output constraints\n",
    "                with table.m.under() as m:\n",
    "                    consist_A = %te lexicon Consistency(A)(Dox)\n",
    "                    consist_A = consist_A(table.context).simplify_all(reduce=True)\n",
    "                    consist_B = %te lexicon Consistency(B)(Dox)\n",
    "                    consist_B = consist_B(table.context).simplify_all(reduce=True)\n",
    "                    \n",
    "                    resolve_A = %te lexicon Resolvedness(A)\n",
    "                    resolve_A = resolve_A(m.Dox)(qud)(turn3_set).simplify_all(reduce=True)\n",
    "                    resolve_B = %te lexicon Resolvedness(B)(Dox)\n",
    "                    resolve_B = resolve_B(qud)(turn2_set).simplify_all(reduce=True, alphanorm=False)\n",
    "\n",
    "                    score_by_ag[(i, j, 'A')] = bool(consist_A) + bool(quality1_A) + bool(quality2_A) + bool(resolve_A)\n",
    "                    score_by_ag[(i, j, 'B')] = bool(consist_B) + bool(quality1_B) + bool(quality2_B) + bool(resolve_B)\n",
    "                    \n",
    "                    score[(i, j)] = score_by_ag[(i, j, 'A')] + score_by_ag[(i, j, 'B')]\n",
    "\n",
    "                    # print(f\"    {repr(m.Dox)}\")\n",
    "                    print(\n",
    "                        f\"    c + {move_repr(turn2)} + {move_repr(turn3)} = {repr(set(table.context))}: \"\n",
    "                        f\"Consistency: {repr(consist_A)}, {repr(consist_B)} \"\n",
    "                        f\"Quality-1: {repr(quality1_A)}, {repr(quality1_B)} \"\n",
    "                        f\"Quality-2: {repr(quality2_A)}, {repr(quality2_B)} \"\n",
    "                        f\"Resolvedness: {repr(resolve_A)}, {repr(resolve_B)} \"\n",
    "                        # f\"final Dox: {repr(m.Dox)} \"\n",
    "                    )\n",
    "        best = max(score.values())\n",
    "        best_seqs = [(move_repr(b_moves[k[0]]), move_repr(a_moves[k[1]])) for k in score if score[k] == best]\n",
    "        # would probably be better with numpy or some such thing\n",
    "        grid = [[''] * (len(a_moves) + 1) for _ in range(len(b_moves) + 1)]\n",
    "        for j in range(len(a_moves)):\n",
    "            for i in range(len(b_moves)):\n",
    "                grid[i+1][j+1] = (score_by_ag[(i,j,'A')], score_by_ag[(i,j,'B')])\n",
    "        grid[0][1] = 'ok'\n",
    "        grid[0][2] = 'disagree'\n",
    "        grid[1][0] = '⟦yes⟧'\n",
    "        grid[2][0] = '⟦no⟧'\n",
    "        grid[3][0] = '⟦idk⟧'\n",
    "        \n",
    "        print('\\n' + '\\n'.join(['\\t'.join([str(cell) for cell in row]) for row in grid]))\n",
    "        print(f\"\\nBest: {repr(best_seqs)}\\n\")\n",
    "                    \n"
   ]
  },
  {
   "cell_type": "code",
   "execution_count": null,
   "id": "2e2078ed-8964-469a-a02f-34200177d10b",
   "metadata": {},
   "outputs": [],
   "source": []
  }
 ],
 "metadata": {
  "kernelspec": {
   "display_name": "Lambda Notebook (Python 3)",
   "language": "python",
   "name": "lambda-notebook"
  },
  "language_info": {
   "codemirror_mode": {
    "name": "ipython",
    "version": 3
   },
   "file_extension": ".py",
   "mimetype": "text/x-python",
   "name": "python",
   "nbconvert_exporter": "python",
   "pygments_lexer": "ipython3",
   "version": "3.12.5"
  }
 },
 "nbformat": 4,
 "nbformat_minor": 5
}
